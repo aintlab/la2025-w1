{
 "cells": [
  {
   "cell_type": "markdown",
   "metadata": {},
   "source": [
    "Before you turn this problem in, make sure everything runs as expected. First, **restart the kernel** (in the menubar, select Kernel$\\rightarrow$Restart) and then **run all cells** (in the menubar, select Cell$\\rightarrow$Run All).\n",
    "\n",
    "Make sure you fill in any place that says `YOUR CODE HERE` or \"YOUR ANSWER HERE\", as well as your`name` and `student ID` below:"
   ]
  },
  {
   "cell_type": "code",
   "execution_count": null,
   "metadata": {},
   "outputs": [],
   "source": [
    "NAME = \"\"\n",
    "STUDENT_ID = \"\""
   ]
  },
  {
   "cell_type": "markdown",
   "metadata": {},
   "source": [
    "---"
   ]
  },
  {
   "cell_type": "markdown",
   "metadata": {
    "deletable": false,
    "editable": false,
    "nbgrader": {
     "cell_type": "markdown",
     "checksum": "19a2685759f570193ec05b66a1769a9f",
     "grade": false,
     "grade_id": "jupyter",
     "locked": true,
     "schema_version": 3,
     "solution": false
    }
   },
   "source": [
    "## Exercises - Introduction to Python Programming"
   ]
  },
  {
   "cell_type": "markdown",
   "metadata": {
    "deletable": false,
    "editable": false,
    "nbgrader": {
     "cell_type": "markdown",
     "checksum": "7bcad7eb5f09094a0ebd8ca953599f4f",
     "grade": false,
     "grade_id": "cell-a7d3deacd9975399",
     "locked": true,
     "schema_version": 3,
     "solution": false,
     "task": false
    }
   },
   "source": [
    "---\n",
    "## No. 1\n",
    "\n",
    "Complete the function below that accepts 5 numbers as arguments and returns the average of those numbers."
   ]
  },
  {
   "cell_type": "code",
   "execution_count": null,
   "metadata": {
    "deletable": false,
    "nbgrader": {
     "cell_type": "code",
     "checksum": "eab8cb0593fb0643ecd455e92839ec4c",
     "grade": false,
     "grade_id": "calc_avg",
     "locked": false,
     "schema_version": 3,
     "solution": true
    }
   },
   "outputs": [],
   "source": [
    "def calc_avg(a,b,c,d,e):\n",
    "    \"\"\"Compute the average of five (5) numbers and return the result.\"\"\"\n",
    "    # YOUR CODE HERE\n",
    "    "
   ]
  },
  {
   "cell_type": "markdown",
   "metadata": {
    "deletable": false,
    "editable": false,
    "nbgrader": {
     "cell_type": "markdown",
     "checksum": "1df186d3885fe83fc633bdd4b9e52022",
     "grade": false,
     "grade_id": "cell-bf651dc83613b6dd",
     "locked": true,
     "schema_version": 3,
     "solution": false,
     "task": false
    }
   },
   "source": [
    "Your function should return `3.0` for `calc_avg(1,2,3,4,5)`. Check that it does:"
   ]
  },
  {
   "cell_type": "code",
   "execution_count": null,
   "metadata": {},
   "outputs": [],
   "source": [
    "calc_avg(1,2,3,4,5)"
   ]
  },
  {
   "cell_type": "code",
   "execution_count": null,
   "metadata": {
    "deletable": false,
    "editable": false,
    "nbgrader": {
     "cell_type": "code",
     "checksum": "13d44bfcedf3f72297bb8a670b99f099",
     "grade": true,
     "grade_id": "correct_calc_avg",
     "locked": false,
     "points": 2,
     "schema_version": 3,
     "solution": false
    }
   },
   "outputs": [],
   "source": [
    "\"\"\"Check that calc_avg returns the correct output for several inputs\"\"\"\n",
    "assert calc_avg(1,2,3,4,5) == 3.0\n",
    "assert calc_avg(10,21,30,42,50) == 30.6\n",
    "assert calc_avg(10.34,19,30,80,120) == 51.86800000000001"
   ]
  },
  {
   "cell_type": "markdown",
   "metadata": {},
   "source": [
    "---\n",
    "\n",
    "## No. 2 \n",
    "\n",
    "Complete the function below that takes accepts a single integer and displays whether the integer is odd or even."
   ]
  },
  {
   "cell_type": "code",
   "execution_count": null,
   "metadata": {
    "deletable": false,
    "nbgrader": {
     "cell_type": "code",
     "checksum": "a759bf6134dc102ff58b1055c8496a4c",
     "grade": false,
     "grade_id": "is_odd_even",
     "locked": false,
     "schema_version": 3,
     "solution": true
    }
   },
   "outputs": [],
   "source": [
    "def is_odd_even(n):\n",
    "    \"\"\" Check wether the input n is odd or even.\"\"\"\n",
    "    # YOUR CODE HERE\n",
    "    "
   ]
  },
  {
   "cell_type": "markdown",
   "metadata": {},
   "source": [
    "The `is_odd_even` function should return 'even' when the input is 10. Verify that this is the answer you get:"
   ]
  },
  {
   "cell_type": "code",
   "execution_count": null,
   "metadata": {},
   "outputs": [],
   "source": [
    "is_odd_even(10)"
   ]
  },
  {
   "cell_type": "code",
   "execution_count": null,
   "metadata": {
    "deletable": false,
    "editable": false,
    "nbgrader": {
     "cell_type": "code",
     "checksum": "86617f1104e9ef7b62fde03ca5d3d5ba",
     "grade": true,
     "grade_id": "correct_is_odd_even",
     "locked": false,
     "points": 2,
     "schema_version": 3,
     "solution": false
    }
   },
   "outputs": [],
   "source": [
    "\"\"\"Check that is_odd_even returns the correct answer for various inputs.\"\"\"\n",
    "assert is_odd_even(10) == 'even'\n",
    "assert is_odd_even(15) == 'odd'\n",
    "assert is_odd_even(89) == 'odd'\n",
    "assert is_odd_even(12004) == 'even'"
   ]
  },
  {
   "cell_type": "markdown",
   "metadata": {},
   "source": [
    "---\n",
    "## No. 3\n",
    "\n",
    "Complete the function below that accepts two arguments, $\\texttt{a}$ and $\\texttt{b}$, and returns the remainder of $\\texttt{a/b}$. "
   ]
  },
  {
   "cell_type": "code",
   "execution_count": null,
   "metadata": {
    "deletable": false,
    "nbgrader": {
     "cell_type": "code",
     "checksum": "7e9d51c7d1939039840f211cb74f7006",
     "grade": false,
     "grade_id": "remainder_ab",
     "locked": false,
     "schema_version": 3,
     "solution": true,
     "task": false
    }
   },
   "outputs": [],
   "source": [
    "def remainder_ab(a,b):\n",
    "    \"\"\" Returns the remainder of a/b.\"\"\"\n",
    "    # YOUR CODE HERE\n",
    "    "
   ]
  },
  {
   "cell_type": "markdown",
   "metadata": {},
   "source": [
    "The `remainder_ab` function should return 1 when the value of a=10 and b=3. Verify that this is the answer you get:"
   ]
  },
  {
   "cell_type": "code",
   "execution_count": null,
   "metadata": {},
   "outputs": [],
   "source": [
    "remainder_ab(10,3)"
   ]
  },
  {
   "cell_type": "code",
   "execution_count": null,
   "metadata": {
    "deletable": false,
    "editable": false,
    "nbgrader": {
     "cell_type": "code",
     "checksum": "2f7f4a0bfb870ed50e56a4280b683bde",
     "grade": true,
     "grade_id": "correct_remainder_ab",
     "locked": true,
     "points": 2,
     "schema_version": 3,
     "solution": false,
     "task": false
    }
   },
   "outputs": [],
   "source": [
    "\"\"\"Check that remainder_ab returns the correct answer for various inputs.\"\"\"\n",
    "assert remainder_ab(10,3) == 1\n",
    "assert remainder_ab(920,5) == 0\n",
    "assert remainder_ab(12345,7) == 4\n",
    "assert remainder_ab(12943,13) == 8"
   ]
  },
  {
   "cell_type": "markdown",
   "metadata": {},
   "source": [
    "---\n",
    "## No. 4 \n",
    "\n",
    "Complete the function below that accepts a single integer $N$, as an argument, and returns the number of factors of $N$."
   ]
  },
  {
   "cell_type": "code",
   "execution_count": null,
   "metadata": {
    "deletable": false,
    "nbgrader": {
     "cell_type": "code",
     "checksum": "03edea5d712229607ac3026598516860",
     "grade": false,
     "grade_id": "check_fact",
     "locked": false,
     "schema_version": 3,
     "solution": true,
     "task": false
    }
   },
   "outputs": [],
   "source": [
    "def check_fact(n):\n",
    "    \"\"\" Returns the number of factors of n.\"\"\"\n",
    "    # YOUR CODE HERE\n",
    "    "
   ]
  },
  {
   "cell_type": "markdown",
   "metadata": {},
   "source": [
    "The factor of a number is a number that divides the given number completely without any remainder. The factors of a number can be positive or negative. For If the function receives 8 as an argument, it should return 4.example, let us find the factors of 8. Since 8 is divisible by 1, 2, 4, and 8, we can list the positive factors of 8 as, 1, 2, 4, and 8. If the `check_fact` function receives 8 as an argument, it should return 4."
   ]
  },
  {
   "cell_type": "code",
   "execution_count": null,
   "metadata": {},
   "outputs": [],
   "source": [
    "check_fact(8)"
   ]
  },
  {
   "cell_type": "code",
   "execution_count": null,
   "metadata": {
    "deletable": false,
    "editable": false,
    "nbgrader": {
     "cell_type": "code",
     "checksum": "b8605fdd74bf504592c94da34f3b80d1",
     "grade": true,
     "grade_id": "correct_check_fact",
     "locked": true,
     "points": 4,
     "schema_version": 3,
     "solution": false,
     "task": false
    }
   },
   "outputs": [],
   "source": [
    "\"\"\"Check that check_fact returns the correct answer for various inputs.\"\"\"\n",
    "assert check_fact(8) == 4\n",
    "assert check_fact(99) == 6\n",
    "assert check_fact(1937) == 4\n",
    "assert check_fact(25) == 3"
   ]
  }
 ],
 "metadata": {
  "kernelspec": {
   "display_name": "Python 3",
   "language": "python",
   "name": "python3"
  },
  "language_info": {
   "codemirror_mode": {
    "name": "ipython",
    "version": 3
   },
   "file_extension": ".py",
   "mimetype": "text/x-python",
   "name": "python",
   "nbconvert_exporter": "python",
   "pygments_lexer": "ipython3",
   "version": "3.9.12"
  }
 },
 "nbformat": 4,
 "nbformat_minor": 1
}
